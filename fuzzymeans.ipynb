{
  "cells": [
    {
      "cell_type": "code",
      "execution_count": null,
      "metadata": {
        "id": "mCT94bnA_FcT"
      },
      "outputs": [
        {
          "ename": "",
          "evalue": "",
          "output_type": "error",
          "traceback": [
            "\u001b[1;31mRunning cells with '/usr/bin/python3' requires the ipykernel package.\n",
            "\u001b[1;31mRun the following command to install 'ipykernel' into the Python environment. \n",
            "\u001b[1;31mCommand: '/usr/bin/python3 -m pip install ipykernel -U --user --force-reinstall'"
          ]
        }
      ],
      "source": [
        "import numpy as np\n",
        "import math  \n",
        "from numpy import asarray\n"
      ]
    },
    {
      "cell_type": "code",
      "execution_count": 261,
      "metadata": {
        "id": "EdTd224jsdtP"
      },
      "outputs": [],
      "source": [
        "points=[[3,5],[4,6],[2,8],[2,3],[1,4]]\n",
        "points=np.asarray(points)\n",
        "centers=[[2,4],[1,7]]\n",
        "centers=np.asarray(centers)\n",
        "q=2\n",
        "lamda=1\n",
        "\n",
        "\n"
      ]
    },
    {
      "cell_type": "code",
      "execution_count": 290,
      "metadata": {
        "id": "Jvek97H8ENrl"
      },
      "outputs": [],
      "source": [
        "def CalculateDistance(points,centers):\n",
        "\n",
        "      return np.array([[ np.linalg.norm(i-j) for j in centers] for i in points])\n",
        "\n",
        "  \n",
        "\n",
        "\n",
        "\n",
        "\n",
        "\n",
        "\n",
        "\n",
        "\n"
      ]
    },
    {
      "cell_type": "code",
      "execution_count": 263,
      "metadata": {
        "colab": {
          "base_uri": "https://localhost:8080/"
        },
        "id": "QGoY_SaoFs3o",
        "outputId": "136ade54-7493-42a1-923d-f9eb7b807ea5"
      },
      "outputs": [
        {
          "data": {
            "text/plain": [
              "array([[1.41421356, 2.82842712],\n",
              "       [2.82842712, 3.16227766],\n",
              "       [4.        , 1.41421356],\n",
              "       [1.        , 4.12310563],\n",
              "       [1.        , 3.        ]])"
            ]
          },
          "execution_count": 263,
          "metadata": {},
          "output_type": "execute_result"
        }
      ],
      "source": [
        "distances=CalculateDistance(points,centers)\n",
        "distances\n"
      ]
    },
    {
      "cell_type": "markdown",
      "metadata": {
        "id": "kzQ37eEDI7y5"
      },
      "source": [
        "calculating eucledian distance with both clusters and iserting it to an array"
      ]
    },
    {
      "cell_type": "code",
      "execution_count": 264,
      "metadata": {
        "id": "e9o94AfqS5Hm"
      },
      "outputs": [],
      "source": [
        "distances_2=distances.tolist()\n"
      ]
    },
    {
      "cell_type": "code",
      "execution_count": 265,
      "metadata": {
        "id": "w62AzxkfUn3w"
      },
      "outputs": [],
      "source": [
        "def CalculateMembership(distances,q):\n",
        "  memberships=np.zeros(shape=(5,2))\n",
        "  for k in range(len(distances_2)):\n",
        "    for x in range(2):\n",
        "        if(x==0):\n",
        "         ans=(distances_2[k][0]/distances_2[k][0])**2+(distances_2[k][0]/distances_2[k][1])**2\n",
        "         ans2=1/ans\n",
        "         memberships[k][0]=ans2\n",
        "        else:\n",
        "         ans3=(distances_2[k][1]/distances_2[k][1])**2+(distances_2[k][1]/distances_2[k][0])**2\n",
        "         ans4=1/ans3\n",
        "         memberships[k][1]=ans4\n",
        "  return memberships"
      ]
    },
    {
      "cell_type": "markdown",
      "metadata": {
        "id": "w7MYTSmVl2hc"
      },
      "source": [
        "calculating membership for each point \n"
      ]
    },
    {
      "cell_type": "code",
      "execution_count": 266,
      "metadata": {
        "colab": {
          "base_uri": "https://localhost:8080/"
        },
        "id": "6vQty8QKSdxE",
        "outputId": "d5206c46-e0ab-467b-9f14-b975cd0cb6eb"
      },
      "outputs": [
        {
          "data": {
            "text/plain": [
              "array([[0.8       , 0.2       ],\n",
              "       [0.55555556, 0.44444444],\n",
              "       [0.11111111, 0.88888889],\n",
              "       [0.94444444, 0.05555556],\n",
              "       [0.9       , 0.1       ]])"
            ]
          },
          "execution_count": 266,
          "metadata": {},
          "output_type": "execute_result"
        }
      ],
      "source": [
        "rnk= CalculateMembership(distances,q)\n",
        "rnk\n"
      ]
    },
    {
      "cell_type": "code",
      "execution_count": 267,
      "metadata": {
        "id": "06AvmgY8rlFL"
      },
      "outputs": [],
      "source": [
        "def UpdateClusterMean(rnk,points,q):\n",
        "    x1=0;\n",
        "    y1=0;\n",
        "    x2=0;\n",
        "    y2=0;\n",
        "    denominator1=0;\n",
        "    denominator2=0;\n",
        "    centers=np.zeros(shape=(2,2))\n",
        "\n",
        "    for k in range(len(points)):\n",
        "      x1=x1+((rnk[k][0])**2)*points[k][0]\n",
        "      y1=y1+((rnk[k][0])**2)*points[k][1]\n",
        "      x2=x2+((rnk[k][1])**2)*points[k][0]\n",
        "      y2=y2+((rnk[k][1])**2)*points[k][1]\n",
        "      denominator1=denominator1+(rnk[k][0])**2\n",
        "      denominator2=denominator2+(rnk[k][1])**2\n",
        "      centers[0][0]=x1/denominator1\n",
        "      centers[0][1]=y1/denominator1\n",
        "      centers[1][0]=x2/denominator2\n",
        "      centers[1][1]=y2/denominator2\n",
        "    return centers  \n",
        "      \n",
        "\n",
        "\n",
        "      \n",
        "      \n",
        "\n",
        "\n",
        "\n",
        "\n",
        "\n"
      ]
    },
    {
      "cell_type": "code",
      "execution_count": 268,
      "metadata": {
        "colab": {
          "base_uri": "https://localhost:8080/"
        },
        "id": "EOwqij_bwM7S",
        "outputId": "c6ddc90d-0499-4f34-f03f-1a029aa8eeef"
      },
      "outputs": [
        {
          "data": {
            "text/plain": [
              "array([[2.16796477, 4.15572554],\n",
              "       [2.4084223 , 7.45183867]])"
            ]
          },
          "execution_count": 268,
          "metadata": {},
          "output_type": "execute_result"
        }
      ],
      "source": [
        "centers=UpdateClusterMean(rnk,points,q)\n",
        "centers\n",
        "\n",
        "\n",
        "\n"
      ]
    },
    {
      "cell_type": "markdown",
      "metadata": {
        "id": "L3d6OrhE-mdX"
      },
      "source": [
        "calculating new centers for each cluster"
      ]
    },
    {
      "cell_type": "code",
      "execution_count": 269,
      "metadata": {
        "id": "EMw_1wrlNWZD"
      },
      "outputs": [],
      "source": [
        "def CalculateObjectiveFunc(points,rnk,centers,q,lamda):\n",
        " final=0\n",
        " final2=0\n",
        " for k in range(len(points)):\n",
        "  part1=((rnk[k][0])**2*(distances[k][0])**2)\n",
        "  part2=((rnk[k][1])**2*(distances[k][1])**2)\n",
        "  final=final+part1+part2\n",
        "  part3=1*((rnk[k][0])+(rnk[k][1])-1)\n",
        "  final2=final2+part3\n",
        "  j=final+final2\n",
        " return j \n",
        "\n",
        "\n"
      ]
    },
    {
      "cell_type": "markdown",
      "metadata": {
        "id": "_W25iCszrABH"
      },
      "source": [
        "calculating objective function using the points, memberships , centers, q and lamda"
      ]
    },
    {
      "cell_type": "code",
      "execution_count": 270,
      "metadata": {
        "colab": {
          "base_uri": "https://localhost:8080/"
        },
        "id": "gK-57ygnOE5R",
        "outputId": "5b8ec579-b182-4e47-d1f3-9a7eddb5780e"
      },
      "outputs": [
        {
          "data": {
            "text/plain": [
              "9.666666666666668"
            ]
          },
          "execution_count": 270,
          "metadata": {},
          "output_type": "execute_result"
        }
      ],
      "source": [
        "J=CalculateObjectiveFunc(points,rnk,centers,q,lamda)\n",
        "J"
      ]
    },
    {
      "cell_type": "code",
      "execution_count": 274,
      "metadata": {
        "id": "LbWJaxLTJr9T"
      },
      "outputs": [],
      "source": [
        "def ReachConvergence(points,rnk,centers,q,lamda):\n",
        " obj1=0\n",
        " distances=CalculateDistance(points,centers)\n",
        " rnk= CalculateMembership(distances,q)\n",
        " obj2=CalculateObjectiveFunc(points,rnk,centers,q,lamda)\n",
        " newcenters=UpdateClusterMean(rnk,points,q)\n",
        " #breakloop=False\n",
        " while(True):\n",
        "   distances=CalculateDistance(points,centers)\n",
        "   rnk=CalculateMembership(distances,q)\n",
        "   centers=UpdateClusterMean(rnk,points,q)\n",
        "   obj1=CalculateObjectiveFunc(points,rnk,centers,q,lamda)\n",
        "   if(abs(obj1-obj2)>0.01):\n",
        "     obj2=obj1\n",
        "     newcenters=UpdateClusterMean(rnk,points,q)\n",
        "   else: \n",
        "    break\n",
        " return rnk,newcenters   \n",
        "\n",
        "\n",
        "\n",
        "\n",
        "\n"
      ]
    },
    {
      "cell_type": "code",
      "execution_count": 275,
      "metadata": {
        "colab": {
          "base_uri": "https://localhost:8080/"
        },
        "id": "xauFqEYvC5p7",
        "outputId": "4aadea15-cde5-4e9d-e295-65b5f6b58959"
      },
      "outputs": [
        {
          "data": {
            "text/plain": [
              "(array([[0.8       , 0.2       ],\n",
              "        [0.55555556, 0.44444444],\n",
              "        [0.11111111, 0.88888889],\n",
              "        [0.94444444, 0.05555556],\n",
              "        [0.9       , 0.1       ]]), array([[2.16796477, 4.15572554],\n",
              "        [2.4084223 , 7.45183867]]))"
            ]
          },
          "execution_count": 275,
          "metadata": {},
          "output_type": "execute_result"
        }
      ],
      "source": [
        "convergence=ReachConvergence(points,rnk,centers,q,lamda)\n",
        "convergence\n"
      ]
    }
  ],
  "metadata": {
    "colab": {
      "provenance": []
    },
    "kernelspec": {
      "display_name": "Python 3",
      "name": "python3"
    },
    "language_info": {
      "name": "python",
      "version": "3.9.6"
    }
  },
  "nbformat": 4,
  "nbformat_minor": 0
}
